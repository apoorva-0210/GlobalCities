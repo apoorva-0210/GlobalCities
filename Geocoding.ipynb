{
 "cells": [
  {
   "cell_type": "code",
   "execution_count": 1,
   "id": "e785da60-8d50-431a-8021-9a34ab1a045e",
   "metadata": {},
   "outputs": [
    {
     "name": "stdout",
     "output_type": "stream",
     "text": [
      "Importing Libraries\n",
      "Loading Dataset\n"
     ]
    }
   ],
   "source": [
    "print(\"Importing Libraries\")\n",
    "import pandas as pd\n",
    "import requests\n",
    "from time import sleep\n",
    "\n",
    "print(\"Loading Dataset\")\n",
    "# Load your dataset\n",
    "df = pd.read_csv(\"AllCitiesMerged1.csv\")  # Update with actual filename"
   ]
  },
  {
   "cell_type": "code",
   "execution_count": 2,
   "id": "1746692d-c05e-40e4-afb1-cb7412ccb7bd",
   "metadata": {},
   "outputs": [
    {
     "data": {
      "text/plain": [
       "Jakarta       1319010\n",
       "Manila         771075\n",
       "Sydney         263360\n",
       "Istanbul       246337\n",
       "SaoPaulo       173346\n",
       "MexicoCity     164844\n",
       "Tokyo          161788\n",
       "Beijing        100663\n",
       "Seoul           83404\n",
       "Karachi         74102\n",
       "Lagos           41060\n",
       "Bangkok         31076\n",
       "Amsterdam       26014\n",
       "Name: City, dtype: int64"
      ]
     },
     "execution_count": 2,
     "metadata": {},
     "output_type": "execute_result"
    }
   ],
   "source": [
    "df['City'].value_counts()"
   ]
  },
  {
   "cell_type": "code",
   "execution_count": 3,
   "id": "364de869-1424-430f-8504-daf4a3509270",
   "metadata": {},
   "outputs": [
    {
     "name": "stdout",
     "output_type": "stream",
     "text": [
      "Start...\n",
      "Starting Reverse Geocoding\n",
      "Adding Columns\n",
      "Saving CSV\n",
      "Completed\n"
     ]
    }
   ],
   "source": [
    "# Filter only Tokyo buildings\n",
    "tokyo_df = df[df['City'] == 'SaoPaulo'].copy()\n",
    "\n",
    "print(\"Start...\")\n",
    "# Initialize new columns\n",
    "tokyo_df['District'] = ''\n",
    "tokyo_df['Subdistrict'] = ''\n",
    "tokyo_df['Neighborhood'] = ''\n",
    "\n",
    "print(\"Starting Reverse Geocoding\")\n",
    "# Define reverse geocode function\n",
    "def reverse_geocode(lat, lon):\n",
    "    try:\n",
    "        url = \"http://localhost:7070/reverse\"\n",
    "        params = {\n",
    "            \"format\": \"json\",\n",
    "            \"lat\": lat,\n",
    "            \"lon\": lon,\n",
    "            \"zoom\": 18,\n",
    "            \"addressdetails\": 1\n",
    "        }\n",
    "        response = requests.get(url, params=params)\n",
    "        if response.status_code == 200:\n",
    "            data = response.json().get(\"address\", {})\n",
    "            return {\n",
    "                \"district\": data.get(\"city_district\") or data.get(\"ward\") or '',\n",
    "                \"subdistrict\": data.get(\"suburb\") or data.get(\"quarter\") or '',\n",
    "                \"neighborhood\": data.get(\"neighbourhood\") or '',\n",
    "            }\n",
    "    except Exception as e:\n",
    "        print(\"Error:\", e)\n",
    "    return {\"district\": \"\", \"subdistrict\": \"\", \"neighborhood\": \"\"}\n",
    "\n",
    "print(\"Adding Columns\")\n",
    "# Apply reverse geocoding row by row\n",
    "for i, row in tokyo_df.iterrows():\n",
    "    geo = reverse_geocode(row['lat'], row['lon'])\n",
    "    tokyo_df.at[i, 'District'] = geo['district']\n",
    "    tokyo_df.at[i, 'Subdistrict'] = geo['subdistrict']\n",
    "    tokyo_df.at[i, 'Neighborhood'] = geo['neighborhood']\n",
    "    sleep(0.01)  # Avoid overloading server\n",
    "print(\"Saving CSV\")\n",
    "# Show result\n",
    "tokyo_df.to_csv('SaoPauloGeocoded.csv', index = False)\n",
    "print(\"Completed\")\n"
   ]
  },
  {
   "cell_type": "code",
   "execution_count": 4,
   "id": "0e644a91-46db-48f6-91fa-98bbbdf29b0c",
   "metadata": {},
   "outputs": [
    {
     "name": "stdout",
     "output_type": "stream",
     "text": [
      "Hello\n"
     ]
    }
   ],
   "source": [
    "print('Hello')"
   ]
  },
  {
   "cell_type": "code",
   "execution_count": 5,
   "id": "96ad7716-4cd9-441f-b472-13e7fb2a64a3",
   "metadata": {},
   "outputs": [],
   "source": [
    "df1 = pd.read_csv('SaoPauloGeocoded.csv')"
   ]
  },
  {
   "cell_type": "code",
   "execution_count": 10,
   "id": "b895dbdb-f15d-4200-b7b7-b72e8ff15d7c",
   "metadata": {},
   "outputs": [
    {
     "data": {
      "text/plain": [
       "Iddo        7759\n",
       "Surulere     685\n",
       "Ijora        106\n",
       "Bariga        90\n",
       "Somolu        64\n",
       "Name: Subdistrict, dtype: int64"
      ]
     },
     "execution_count": 10,
     "metadata": {},
     "output_type": "execute_result"
    }
   ],
   "source": [
    "df1['Subdistrict'].value_counts()"
   ]
  },
  {
   "cell_type": "code",
   "execution_count": null,
   "id": "a4042f6e-27bb-4831-b314-b52edf0a5aee",
   "metadata": {},
   "outputs": [],
   "source": []
  },
  {
   "cell_type": "code",
   "execution_count": null,
   "id": "003b3988-9c73-4dc6-b504-25a2b9f0795b",
   "metadata": {},
   "outputs": [],
   "source": []
  },
  {
   "cell_type": "code",
   "execution_count": null,
   "id": "cd01a40b-bdf9-4dce-a900-d37f9040ace6",
   "metadata": {},
   "outputs": [],
   "source": []
  },
  {
   "cell_type": "code",
   "execution_count": null,
   "id": "a6c362b8-744e-41da-9947-08311258e724",
   "metadata": {},
   "outputs": [],
   "source": []
  },
  {
   "cell_type": "code",
   "execution_count": null,
   "id": "cef2d957-90cf-4db7-9fb9-3680b726bb0c",
   "metadata": {},
   "outputs": [],
   "source": []
  },
  {
   "cell_type": "code",
   "execution_count": null,
   "id": "bb6fbc1e-2dc1-43b3-a73b-f45ccafe9723",
   "metadata": {},
   "outputs": [],
   "source": []
  },
  {
   "cell_type": "code",
   "execution_count": null,
   "id": "bfe436e9-c517-4ff4-a4f9-f013a13e489a",
   "metadata": {},
   "outputs": [],
   "source": []
  },
  {
   "cell_type": "code",
   "execution_count": null,
   "id": "c64a3027-7195-4816-9b28-537077520387",
   "metadata": {},
   "outputs": [],
   "source": []
  },
  {
   "cell_type": "code",
   "execution_count": null,
   "id": "f083e08b-a046-4d30-b5e4-11ef71411f6f",
   "metadata": {},
   "outputs": [],
   "source": []
  },
  {
   "cell_type": "code",
   "execution_count": null,
   "id": "af750d47-17fa-4c4a-9479-bd2011ae5b17",
   "metadata": {},
   "outputs": [],
   "source": []
  },
  {
   "cell_type": "code",
   "execution_count": null,
   "id": "9db7a77e-6f43-498f-ab0e-63b3b1d03c7d",
   "metadata": {},
   "outputs": [],
   "source": []
  },
  {
   "cell_type": "code",
   "execution_count": null,
   "id": "dfbcc27c-52f7-488f-bd34-468ed3bc5d68",
   "metadata": {},
   "outputs": [],
   "source": []
  },
  {
   "cell_type": "code",
   "execution_count": null,
   "id": "c4bdc8e5-eb30-4d36-a67b-cf2e0d98cf35",
   "metadata": {},
   "outputs": [],
   "source": []
  },
  {
   "cell_type": "code",
   "execution_count": null,
   "id": "a35bfc88-4ce8-4990-84c9-7710cf74e80f",
   "metadata": {},
   "outputs": [],
   "source": []
  },
  {
   "cell_type": "code",
   "execution_count": null,
   "id": "1d8fda43-a851-49fa-b1a3-fd565421e0df",
   "metadata": {},
   "outputs": [],
   "source": []
  },
  {
   "cell_type": "code",
   "execution_count": null,
   "id": "0e16dcef-a861-4b1a-87d9-455830c39641",
   "metadata": {},
   "outputs": [],
   "source": []
  },
  {
   "cell_type": "code",
   "execution_count": null,
   "id": "96d34049-a78b-495c-aea6-9cbbfd4815bd",
   "metadata": {},
   "outputs": [],
   "source": []
  },
  {
   "cell_type": "code",
   "execution_count": null,
   "id": "bfe01a5a-9dc0-45cc-bcbc-fe9091415c7c",
   "metadata": {},
   "outputs": [],
   "source": []
  },
  {
   "cell_type": "code",
   "execution_count": null,
   "id": "6947ba19-1373-4b70-aa80-feee1d71ea65",
   "metadata": {},
   "outputs": [],
   "source": []
  },
  {
   "cell_type": "code",
   "execution_count": null,
   "id": "6108d332-e6d8-4fe7-a0bd-9512685a9eea",
   "metadata": {},
   "outputs": [],
   "source": []
  },
  {
   "cell_type": "code",
   "execution_count": null,
   "id": "05c47714-4488-4b3c-b8b2-5d11b1cf235f",
   "metadata": {},
   "outputs": [],
   "source": []
  },
  {
   "cell_type": "code",
   "execution_count": null,
   "id": "ae9fb291-0ac5-4718-a421-3e08e1460cb1",
   "metadata": {},
   "outputs": [],
   "source": []
  },
  {
   "cell_type": "code",
   "execution_count": null,
   "id": "4f2f2450-7011-4385-9756-5b73432b1c52",
   "metadata": {},
   "outputs": [],
   "source": []
  },
  {
   "cell_type": "code",
   "execution_count": null,
   "id": "2c3bd16a-b536-4adc-a8ce-3c2dcd08063c",
   "metadata": {},
   "outputs": [],
   "source": []
  },
  {
   "cell_type": "code",
   "execution_count": null,
   "id": "03367cad-3d34-43dd-8734-4d5456ecaa88",
   "metadata": {},
   "outputs": [],
   "source": []
  },
  {
   "cell_type": "code",
   "execution_count": null,
   "id": "45cb84b9-b133-426a-a97b-4166f4bd2592",
   "metadata": {},
   "outputs": [],
   "source": []
  },
  {
   "cell_type": "code",
   "execution_count": null,
   "id": "0af2c068-219f-4d26-97a8-cb151ac9e4bf",
   "metadata": {},
   "outputs": [],
   "source": [
    "df = pd.read_csv('AllCitiesMerged1.csv')"
   ]
  },
  {
   "cell_type": "code",
   "execution_count": null,
   "id": "4e8d5290-747a-4822-bb71-f308a70dc0d4",
   "metadata": {},
   "outputs": [],
   "source": [
    "df.head(10)"
   ]
  },
  {
   "cell_type": "code",
   "execution_count": null,
   "id": "68092d65-41ab-4750-9ea2-ded243a03a9b",
   "metadata": {},
   "outputs": [],
   "source": []
  }
 ],
 "metadata": {
  "kernelspec": {
   "display_name": "Python [conda env:base] *",
   "language": "python",
   "name": "conda-base-py"
  },
  "language_info": {
   "codemirror_mode": {
    "name": "ipython",
    "version": 3
   },
   "file_extension": ".py",
   "mimetype": "text/x-python",
   "name": "python",
   "nbconvert_exporter": "python",
   "pygments_lexer": "ipython3",
   "version": "3.9.21"
  }
 },
 "nbformat": 4,
 "nbformat_minor": 5
}
